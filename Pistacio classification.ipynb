{
 "cells": [
  {
   "cell_type": "code",
   "execution_count": null,
   "metadata": {},
   "outputs": [],
   "source": [
    " \n",
    "import numpy as np\n",
    "import cv2 import pandas as pd\n",
    "import matplotlib.pyplot as plt\n",
    "from imutils import paths\n",
    "import os\n",
    "import argparse\n",
    "from sklearn.preprocessing import LabelEncoder\n",
    "from sklearn.model_selection import train_test_split,\n",
    "        \n",
    "from tensorflow.keras.models import Sequential\n",
    "from tensorflow.keras.layers import Dense, Flatten, Conv2D, BatchNormalization, Dropout,MaxPooling2D"
   ]
  },
  {
   "cell_type": "code",
   "execution_count": null,
   "metadata": {},
   "outputs": [],
   "source": [
    "image_paths = list(paths.list_images('/kaggle/input/pistachio-image-dataset/Pistachio_Image_Dataset/Pistachio_Image_Dataset'))\n",
    "data = []\n",
    "labels = []\n",
    "        \n",
    "for imapath in image_paths:\n",
    "    label = imapath.split(os.path.sep)[-2]\n",
    "        \n",
    "    img = cv2.imread(imapath)\n",
    "    img = cv2.cvtColor(img,cv2.COLOR_BGR2GRAY)\n",
    "    img = cv2.resize(img,(64,64))\n",
    "    data.append(img)\n",
    "    labels.append(label)"
   ]
  },
  {
   "cell_type": "code",
   "execution_count": null,
   "metadata": {},
   "outputs": [],
   "source": [
    "from keras.utils import to_categorical\n",
    "data = np.array(data,dtype='float32') / 255.0\n",
    "data = data.reshape(data.shape[0],data.shape[1],data.shape[2],1)\n",
    "# encode labels with integers\n",
    "le = LabelEncoder()\n",
    "labels = le.fit_transform(labels)\n",
    "        \n",
    "# one hot encode\n",
    "labels = to_categorical(labels,2)\n",
    "        \n",
    "xtrain,xtest,ytrain,ytest = train_test_split(data,labels,test_size=0.40,stratify=labels,random_state=42)"
   ]
  },
  {
   "cell_type": "code",
   "execution_count": null,
   "metadata": {},
   "outputs": [],
   "source": [
    "from tensorflow.keras.layers import Activatio\n",
    "def build(inputshape,classes,reg)\n",
    "        # first set of CONV => RELU => POOL layers\\n\",\n",
    "    model = Sequential()\n",
    "    model.add(Conv2D(64, (11, 11), input_shape=inputshape,\n",
    "     padding=\"same\", kernel_regularizer=reg))\n",
    "    model.add(Activation(\"relu\"))\n",
    "    model.add(MaxPooling2D(pool_size=(2, 2)))\n",
    "    model.add(Dropout(0.25))\n",
    "    \n",
    "        # second set of CONV => RELU => POOL layer\n",
    "    model.add(Conv2D(128, (5, 5), padding=\"same\",\n",
    "    kernel_regularizer=reg))\n",
    "    model.add(Activation(\"relu\"))\n",
    "    model.add(MaxPooling2D(pool_size=(2, 2)))\n",
    "    model.add(Dropout(0.25))\n",
    "        \n",
    "        # third (and final) CONV => RELU => POOL layers\\n\",\n",
    "    model.add(Conv2D(256, (3, 3), padding=\"same\",\n",
    "    kernel_regularizer=reg))\n",
    "    model.add(Activation(\"relu\"))\n",
    "    model.add(MaxPooling2D(pool_size=(2, 2)))\n",
    "    model.add(Dropout(0.25))\n",
    "\n",
    "        # first and only set of FC => RELU layers\\n\",\n",
    "    model.add(Flatten())\n",
    "    model.add(Dense(512, kernel_regularizer=reg))\n",
    "    model.add(Activation(\"relu\"))\n",
    "    model.add(Dropout(0.5))\n",
    "        # softmax classifier\\n\",\n",
    "    model.add(Dense(classes))\n",
    "    model.add(Activation(\"softmax\"))\n",
    "        # return the constructed network architecture\\n\",\n",
    "    return model"
   ]
  },
  {
   "cell_type": "code",
   "execution_count": null,
   "metadata": {},
   "outputs": [],
   "source": [
    "#plot the training loss and accuracy\\n\",\n",
    "N = 70\n",
    "plt.style.use(\"ggplot\")\n",
    "plt.figure()\n",
    "plt.plot(np.arange(0, N), hist.history[\"loss\"], label=\"train_loss\")\n",
    "plt.plot(np.arange(0, N), hist.history[\"val_loss\"], label=\"val_loss\")\n",
    "plt.plot(np.arange(0, N), hist.history[\"accuracy\"], label=\"train_acc\")\n",
    "plt.plot(np.arange(0, N), hist.history[\"val_accuracy\"], label=\"val_acc\")\n",
    "plt.title(\"Training Loss and Accuracy on Dataset\")\n",
    "plt.xlabel(\"Epoch #\")\n",
    "plt.ylabel(\"Loss/Accuracy\")\n",
    "plt.legend(loc=\"lower left\")"
   ]
  }
 ],
 "metadata": {
  "kernelspec": {
   "display_name": "base",
   "language": "python",
   "name": "python3"
  },
  "language_info": {
   "name": "python",
   "version": "3.11.4"
  }
 },
 "nbformat": 4,
 "nbformat_minor": 2
}
